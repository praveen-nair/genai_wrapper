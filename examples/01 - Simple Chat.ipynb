{
 "cells": [
  {
   "cell_type": "markdown",
   "metadata": {},
   "source": [
    "### A simple chat. Calls the SAP BTP gen aicore and invokes a simple chat"
   ]
  },
  {
   "cell_type": "code",
   "execution_count": 1,
   "metadata": {},
   "outputs": [],
   "source": [
    "# Load the library\n",
    "from genai_wrapper.wrapper import GenAIWrapper, ChatObject"
   ]
  },
  {
   "cell_type": "code",
   "execution_count": 2,
   "metadata": {},
   "outputs": [],
   "source": [
    "# Load the config file and instantiate the Wrapper\n",
    "gen_ai = GenAIWrapper( config_file=\"ai_core.json\" )"
   ]
  },
  {
   "cell_type": "code",
   "execution_count": 3,
   "metadata": {},
   "outputs": [
    {
     "name": "stdout",
     "output_type": "stream",
     "text": [
      "I am a software developer. I create, design, and maintain software applications for various platforms and devices. I enjoy problem-solving and creating efficient, user-friendly software that meets the needs of users.\n"
     ]
    }
   ],
   "source": [
    "# Create the chat object\n",
    "chat = ChatObject()\n",
    "# Add a content/ query\n",
    "chat.add_message(\"Who are you?\")\n",
    "# Specify the model (the model must be defined in the config file)\n",
    "gen_ai.chat(\"ibm--granite-13b-chat_2.1.0\", chat)\n",
    "# Print the answer\n",
    "print(chat.get_answer())"
   ]
  },
  {
   "cell_type": "markdown",
   "metadata": {},
   "source": [
    "#### Get the llm's call usage"
   ]
  },
  {
   "cell_type": "code",
   "execution_count": 4,
   "metadata": {},
   "outputs": [
    {
     "data": {
      "text/plain": [
       "{'completion_tokens': 43, 'prompt_tokens': 12, 'total_tokens': 55}"
      ]
     },
     "execution_count": 4,
     "metadata": {},
     "output_type": "execute_result"
    }
   ],
   "source": [
    "chat.get_usage()"
   ]
  }
 ],
 "metadata": {
  "kernelspec": {
   "display_name": "test",
   "language": "python",
   "name": "python3"
  },
  "language_info": {
   "codemirror_mode": {
    "name": "ipython",
    "version": 3
   },
   "file_extension": ".py",
   "mimetype": "text/x-python",
   "name": "python",
   "nbconvert_exporter": "python",
   "pygments_lexer": "ipython3",
   "version": "3.13.0"
  }
 },
 "nbformat": 4,
 "nbformat_minor": 2
}
