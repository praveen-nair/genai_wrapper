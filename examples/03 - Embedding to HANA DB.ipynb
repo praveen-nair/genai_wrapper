{
 "cells": [
  {
   "cell_type": "markdown",
   "metadata": {},
   "source": [
    "### A simple interface to exchange vector embedding with the HANA DB"
   ]
  },
  {
   "cell_type": "code",
   "execution_count": 1,
   "metadata": {},
   "outputs": [],
   "source": [
    "# Load the library\n",
    "from genai_wrapper.wrapper import GenAIWrapper, ChatObject, HANAVectorObject"
   ]
  },
  {
   "cell_type": "code",
   "execution_count": 2,
   "metadata": {},
   "outputs": [],
   "source": [
    "# Load the config file and instantiate the Wrapper\n",
    "gen_ai = GenAIWrapper( config_file=\"ai_core.json\" )"
   ]
  },
  {
   "cell_type": "code",
   "execution_count": 3,
   "metadata": {},
   "outputs": [
    {
     "name": "stdout",
     "output_type": "stream",
     "text": [
      "{'total_records': 2, 'records': {'PRODUCT_ID': ['NOTEBOOK_GRD', 'NOTEBOOK_PLN'], 'PRODUCT_NAME': ['Notebook - Grid', 'Notebook - Plain'], 'QUANTITY': [100, 100], 'PRODUCT_DESCRIPTION': ['A4 sized grid notebook.', 'A4 sized plain notebook.'], 'VECTOR': [<memory at 0x000001F71FD13580>, <memory at 0x000001F71FD12F80>], 'SIM_SCORE': [0.8659792382692444, 0.8604110312951901]}}\n"
     ]
    }
   ],
   "source": [
    "# Create the chat object\n",
    "chat = ChatObject()\n",
    "# Invoke the HANA Table where you want to do a similarity search\n",
    "hana_vec_object = HANAVectorObject(\n",
    "    table=\"SC_USER_PRODUCT_MASTER_001\", # HANA Db Table name\n",
    "    columns=\"*\",                        # Columns you want to query. '*' means all columns. Specific columns can be queried by passing column names separated bu comma: eg: PRODUCT_ID, PRODUCT_NAME, PRODUCT_DESCRIPTION\n",
    "    vector_col=\"VECTOR\",                # Name of the vector store column. This should already be populated with the vector array\n",
    "    k=2                                 # No of search records which has the highest similarity score\n",
    ")\n",
    "# Query the results. Here we search for records that are similar to the text 'notebook'\n",
    "result = gen_ai.embedding_vec_store( \"text-embedding-ada-002\", hana_vec_object, vec_text=\"notebook\" )\n",
    "# Print the result/ matched records\n",
    "print(result)"
   ]
  }
 ],
 "metadata": {
  "kernelspec": {
   "display_name": "test",
   "language": "python",
   "name": "python3"
  },
  "language_info": {
   "codemirror_mode": {
    "name": "ipython",
    "version": 3
   },
   "file_extension": ".py",
   "mimetype": "text/x-python",
   "name": "python",
   "nbconvert_exporter": "python",
   "pygments_lexer": "ipython3",
   "version": "3.13.0"
  }
 },
 "nbformat": 4,
 "nbformat_minor": 2
}
